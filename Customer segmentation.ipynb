{
 "cells": [
  {
   "cell_type": "markdown",
   "metadata": {},
   "source": [
    "# Customer segmentation\n",
    "\n",
    "In today's competitive business landscape, understanding customer behavoir is crucial for improving customer engagement, retention and profitability. Businesses that effectively segment their customer base can develop targeted marketing strategies, optimize resource allocation and enhance customer satisfaction. Traditional methods of customer segmentation rely on manual analysis and intuition which can be time consuming, inefficient and prone to inaccuracies.\n",
    "\n",
    "The project leverages machine learning techniques to automate customer segmentation using demographic, professional and behavioral data. By analyzing key attributes such as age spending score, profession and family size, we aim to classify customers into distict segments. These segments will help businesses tailor their marketing campaigns, personalize customer experiences and optimize business operations.\n",
    "\n",
    "The study will involve data preprocessing, exploratory data ananalysis(EDA), feature engineering, and the application of various classification models including Decision trees, Random Forests, Gradient Boosting and Neural Networks. The model's performance will be evaluated using key metrics such as accuracy, precision, recall, and f1-score. Additionally, feature importance analysis will help identify the most influential factors driving customer segmentation.\n",
    "\n",
    "The ultimate goal of this project is to provide businesses with actionable insights into customer behavior, enabling them to make data driven decisions that enhance profitability and customer satisfaction. The findings will also serve as a foundation for further research and improvements in customer segmentation methodologies.\n",
    "\n",
    "\n",
    "# Problem Statement\n",
    "\n",
    "Understanding customer behavior is crucial for optimizing marketing efforts. However, manually segmentating customers is efficient and prone to errors. The objective of this project is to use machine learning techniques to automate customer segmentation using demographic, professional and behavioral data.\n",
    "\n",
    "# Data set overview\n",
    "\n",
    "The dataset was obtained from kaggle contains the following atributes:\n",
    "\n",
    "ID: Uniqque identifier for each customer\n",
    "\n",
    "Gender: Male and Female\n",
    "\n",
    "Ever_married: Whether the customer has been married\n",
    "\n",
    "Age: Customer's age\n",
    "\n",
    "Graduated: Whether the customer is a graduate\n",
    "\n",
    "Profession: Customer's profession\n",
    "\n",
    "Work_Experience: Number of years of work experience\n",
    "\n",
    "Spending_Score: Categorized as low, average or high\n",
    "\n",
    "Family_size:Number of family members\n",
    "\n",
    "Var_1: Categorical variable with different categories\n",
    "\n",
    "Segmentation: Target veariable with customer segment A,B,C and D\n",
    "\n",
    "# Methodology\n",
    "1. Data Prepocessing\n",
    "\n",
    "Handle missing valuea through imputation techniques\n",
    "\n",
    "Encode categorical variable using one hot encoding or label encoding\n",
    "\n",
    "Normalize numerical features for better model performance\n",
    "\n",
    "2. Exploratory Data Analysis\n",
    "\n",
    "Visualize the distribution of customer segments\n",
    "\n",
    "Identify patterns and relationships between features\n",
    "\n",
    "check for class imbalances in the target variable\n",
    "\n",
    "3. Model development\n",
    "\n",
    "Train classification models; decision tree, random forest gradient boosting and neural networks\n",
    "\n",
    "Cross validation to improve generalization\n",
    "\n",
    "Optimize hyperparameter to enhance model accuracy\n",
    "\n",
    "4. Evaluation Metrics\n",
    "\n",
    "Accuracy precision and Recall and F1-Score\n",
    "\n",
    "Confusion Matrix to analyze classification performance\n",
    "\n",
    "Feature importance analysis to identify key factors influencing segmentation.\n",
    "\n",
    "5. Expected Outcomes\n",
    "\n",
    "Well trained machine learning models capable of redicting customer segments\n",
    "\n",
    "Insights into key demographic and behavioral factors influencing segmentation\n",
    "\n",
    "Recommendations for businesses on targetes marketing strategies.\n"
   ]
  },
  {
   "cell_type": "markdown",
   "metadata": {},
   "source": [
    "# 1. Data Preprocessing"
   ]
  },
  {
   "cell_type": "code",
   "execution_count": 1,
   "metadata": {},
   "outputs": [
    {
     "data": {
      "text/html": [
       "<div>\n",
       "<style scoped>\n",
       "    .dataframe tbody tr th:only-of-type {\n",
       "        vertical-align: middle;\n",
       "    }\n",
       "\n",
       "    .dataframe tbody tr th {\n",
       "        vertical-align: top;\n",
       "    }\n",
       "\n",
       "    .dataframe thead th {\n",
       "        text-align: right;\n",
       "    }\n",
       "</style>\n",
       "<table border=\"1\" class=\"dataframe\">\n",
       "  <thead>\n",
       "    <tr style=\"text-align: right;\">\n",
       "      <th></th>\n",
       "      <th>ID</th>\n",
       "      <th>Gender</th>\n",
       "      <th>Ever_Married</th>\n",
       "      <th>Age</th>\n",
       "      <th>Graduated</th>\n",
       "      <th>Profession</th>\n",
       "      <th>Work_Experience</th>\n",
       "      <th>Spending_Score</th>\n",
       "      <th>Family_Size</th>\n",
       "      <th>Var_1</th>\n",
       "      <th>Segmentation</th>\n",
       "    </tr>\n",
       "  </thead>\n",
       "  <tbody>\n",
       "    <tr>\n",
       "      <th>0</th>\n",
       "      <td>458989</td>\n",
       "      <td>Female</td>\n",
       "      <td>Yes</td>\n",
       "      <td>36</td>\n",
       "      <td>Yes</td>\n",
       "      <td>Engineer</td>\n",
       "      <td>0.0</td>\n",
       "      <td>Low</td>\n",
       "      <td>1.0</td>\n",
       "      <td>Cat_6</td>\n",
       "      <td>B</td>\n",
       "    </tr>\n",
       "    <tr>\n",
       "      <th>1</th>\n",
       "      <td>458994</td>\n",
       "      <td>Male</td>\n",
       "      <td>Yes</td>\n",
       "      <td>37</td>\n",
       "      <td>Yes</td>\n",
       "      <td>Healthcare</td>\n",
       "      <td>8.0</td>\n",
       "      <td>Average</td>\n",
       "      <td>4.0</td>\n",
       "      <td>Cat_6</td>\n",
       "      <td>A</td>\n",
       "    </tr>\n",
       "    <tr>\n",
       "      <th>2</th>\n",
       "      <td>458996</td>\n",
       "      <td>Female</td>\n",
       "      <td>Yes</td>\n",
       "      <td>69</td>\n",
       "      <td>No</td>\n",
       "      <td>NaN</td>\n",
       "      <td>0.0</td>\n",
       "      <td>Low</td>\n",
       "      <td>1.0</td>\n",
       "      <td>Cat_6</td>\n",
       "      <td>A</td>\n",
       "    </tr>\n",
       "    <tr>\n",
       "      <th>3</th>\n",
       "      <td>459000</td>\n",
       "      <td>Male</td>\n",
       "      <td>Yes</td>\n",
       "      <td>59</td>\n",
       "      <td>No</td>\n",
       "      <td>Executive</td>\n",
       "      <td>11.0</td>\n",
       "      <td>High</td>\n",
       "      <td>2.0</td>\n",
       "      <td>Cat_6</td>\n",
       "      <td>B</td>\n",
       "    </tr>\n",
       "    <tr>\n",
       "      <th>4</th>\n",
       "      <td>459001</td>\n",
       "      <td>Female</td>\n",
       "      <td>No</td>\n",
       "      <td>19</td>\n",
       "      <td>No</td>\n",
       "      <td>Marketing</td>\n",
       "      <td>NaN</td>\n",
       "      <td>Low</td>\n",
       "      <td>4.0</td>\n",
       "      <td>Cat_6</td>\n",
       "      <td>A</td>\n",
       "    </tr>\n",
       "  </tbody>\n",
       "</table>\n",
       "</div>"
      ],
      "text/plain": [
       "       ID  Gender Ever_Married  Age Graduated  Profession  Work_Experience  \\\n",
       "0  458989  Female          Yes   36       Yes    Engineer              0.0   \n",
       "1  458994    Male          Yes   37       Yes  Healthcare              8.0   \n",
       "2  458996  Female          Yes   69        No         NaN              0.0   \n",
       "3  459000    Male          Yes   59        No   Executive             11.0   \n",
       "4  459001  Female           No   19        No   Marketing              NaN   \n",
       "\n",
       "  Spending_Score  Family_Size  Var_1 Segmentation  \n",
       "0            Low          1.0  Cat_6            B  \n",
       "1        Average          4.0  Cat_6            A  \n",
       "2            Low          1.0  Cat_6            A  \n",
       "3           High          2.0  Cat_6            B  \n",
       "4            Low          4.0  Cat_6            A  "
      ]
     },
     "execution_count": 1,
     "metadata": {},
     "output_type": "execute_result"
    }
   ],
   "source": [
    "import pandas as pd\n",
    "\n",
    "test_df = pd.read_csv(r'\\Users\\Catherine\\Desktop\\Project\\Customer Segmentation\\Test.csv')\n",
    "test_df.head()"
   ]
  },
  {
   "cell_type": "code",
   "execution_count": 2,
   "metadata": {},
   "outputs": [
    {
     "name": "stdout",
     "output_type": "stream",
     "text": [
      "<class 'pandas.core.frame.DataFrame'>\n",
      "RangeIndex: 2627 entries, 0 to 2626\n",
      "Data columns (total 11 columns):\n",
      " #   Column           Non-Null Count  Dtype  \n",
      "---  ------           --------------  -----  \n",
      " 0   ID               2627 non-null   int64  \n",
      " 1   Gender           2627 non-null   object \n",
      " 2   Ever_Married     2577 non-null   object \n",
      " 3   Age              2627 non-null   int64  \n",
      " 4   Graduated        2603 non-null   object \n",
      " 5   Profession       2589 non-null   object \n",
      " 6   Work_Experience  2358 non-null   float64\n",
      " 7   Spending_Score   2627 non-null   object \n",
      " 8   Family_Size      2514 non-null   float64\n",
      " 9   Var_1            2595 non-null   object \n",
      " 10  Segmentation     2627 non-null   object \n",
      "dtypes: float64(2), int64(2), object(7)\n",
      "memory usage: 225.9+ KB\n"
     ]
    }
   ],
   "source": [
    "test_df.info()"
   ]
  },
  {
   "cell_type": "code",
   "execution_count": 3,
   "metadata": {},
   "outputs": [
    {
     "data": {
      "text/html": [
       "<div>\n",
       "<style scoped>\n",
       "    .dataframe tbody tr th:only-of-type {\n",
       "        vertical-align: middle;\n",
       "    }\n",
       "\n",
       "    .dataframe tbody tr th {\n",
       "        vertical-align: top;\n",
       "    }\n",
       "\n",
       "    .dataframe thead th {\n",
       "        text-align: right;\n",
       "    }\n",
       "</style>\n",
       "<table border=\"1\" class=\"dataframe\">\n",
       "  <thead>\n",
       "    <tr style=\"text-align: right;\">\n",
       "      <th></th>\n",
       "      <th>ID</th>\n",
       "      <th>Gender</th>\n",
       "      <th>Ever_Married</th>\n",
       "      <th>Age</th>\n",
       "      <th>Graduated</th>\n",
       "      <th>Profession</th>\n",
       "      <th>Work_Experience</th>\n",
       "      <th>Spending_Score</th>\n",
       "      <th>Family_Size</th>\n",
       "      <th>Var_1</th>\n",
       "      <th>Segmentation</th>\n",
       "    </tr>\n",
       "  </thead>\n",
       "  <tbody>\n",
       "    <tr>\n",
       "      <th>0</th>\n",
       "      <td>462809</td>\n",
       "      <td>Male</td>\n",
       "      <td>No</td>\n",
       "      <td>22</td>\n",
       "      <td>No</td>\n",
       "      <td>Healthcare</td>\n",
       "      <td>1.0</td>\n",
       "      <td>Low</td>\n",
       "      <td>4.0</td>\n",
       "      <td>Cat_4</td>\n",
       "      <td>D</td>\n",
       "    </tr>\n",
       "    <tr>\n",
       "      <th>1</th>\n",
       "      <td>462643</td>\n",
       "      <td>Female</td>\n",
       "      <td>Yes</td>\n",
       "      <td>38</td>\n",
       "      <td>Yes</td>\n",
       "      <td>Engineer</td>\n",
       "      <td>NaN</td>\n",
       "      <td>Average</td>\n",
       "      <td>3.0</td>\n",
       "      <td>Cat_4</td>\n",
       "      <td>A</td>\n",
       "    </tr>\n",
       "    <tr>\n",
       "      <th>2</th>\n",
       "      <td>466315</td>\n",
       "      <td>Female</td>\n",
       "      <td>Yes</td>\n",
       "      <td>67</td>\n",
       "      <td>Yes</td>\n",
       "      <td>Engineer</td>\n",
       "      <td>1.0</td>\n",
       "      <td>Low</td>\n",
       "      <td>1.0</td>\n",
       "      <td>Cat_6</td>\n",
       "      <td>B</td>\n",
       "    </tr>\n",
       "    <tr>\n",
       "      <th>3</th>\n",
       "      <td>461735</td>\n",
       "      <td>Male</td>\n",
       "      <td>Yes</td>\n",
       "      <td>67</td>\n",
       "      <td>Yes</td>\n",
       "      <td>Lawyer</td>\n",
       "      <td>0.0</td>\n",
       "      <td>High</td>\n",
       "      <td>2.0</td>\n",
       "      <td>Cat_6</td>\n",
       "      <td>B</td>\n",
       "    </tr>\n",
       "    <tr>\n",
       "      <th>4</th>\n",
       "      <td>462669</td>\n",
       "      <td>Female</td>\n",
       "      <td>Yes</td>\n",
       "      <td>40</td>\n",
       "      <td>Yes</td>\n",
       "      <td>Entertainment</td>\n",
       "      <td>NaN</td>\n",
       "      <td>High</td>\n",
       "      <td>6.0</td>\n",
       "      <td>Cat_6</td>\n",
       "      <td>A</td>\n",
       "    </tr>\n",
       "  </tbody>\n",
       "</table>\n",
       "</div>"
      ],
      "text/plain": [
       "       ID  Gender Ever_Married  Age Graduated     Profession  Work_Experience  \\\n",
       "0  462809    Male           No   22        No     Healthcare              1.0   \n",
       "1  462643  Female          Yes   38       Yes       Engineer              NaN   \n",
       "2  466315  Female          Yes   67       Yes       Engineer              1.0   \n",
       "3  461735    Male          Yes   67       Yes         Lawyer              0.0   \n",
       "4  462669  Female          Yes   40       Yes  Entertainment              NaN   \n",
       "\n",
       "  Spending_Score  Family_Size  Var_1 Segmentation  \n",
       "0            Low          4.0  Cat_4            D  \n",
       "1        Average          3.0  Cat_4            A  \n",
       "2            Low          1.0  Cat_6            B  \n",
       "3           High          2.0  Cat_6            B  \n",
       "4           High          6.0  Cat_6            A  "
      ]
     },
     "execution_count": 3,
     "metadata": {},
     "output_type": "execute_result"
    }
   ],
   "source": [
    "train_df = pd.read_csv(r'\\Users\\Catherine\\Desktop\\Project\\Customer Segmentation\\Train.csv')\n",
    "train_df.head()"
   ]
  },
  {
   "cell_type": "code",
   "execution_count": 4,
   "metadata": {},
   "outputs": [
    {
     "name": "stdout",
     "output_type": "stream",
     "text": [
      "<class 'pandas.core.frame.DataFrame'>\n",
      "RangeIndex: 8068 entries, 0 to 8067\n",
      "Data columns (total 11 columns):\n",
      " #   Column           Non-Null Count  Dtype  \n",
      "---  ------           --------------  -----  \n",
      " 0   ID               8068 non-null   int64  \n",
      " 1   Gender           8068 non-null   object \n",
      " 2   Ever_Married     7928 non-null   object \n",
      " 3   Age              8068 non-null   int64  \n",
      " 4   Graduated        7990 non-null   object \n",
      " 5   Profession       7944 non-null   object \n",
      " 6   Work_Experience  7239 non-null   float64\n",
      " 7   Spending_Score   8068 non-null   object \n",
      " 8   Family_Size      7733 non-null   float64\n",
      " 9   Var_1            7992 non-null   object \n",
      " 10  Segmentation     8068 non-null   object \n",
      "dtypes: float64(2), int64(2), object(7)\n",
      "memory usage: 693.5+ KB\n"
     ]
    }
   ],
   "source": [
    "train_df.info()"
   ]
  },
  {
   "cell_type": "code",
   "execution_count": 5,
   "metadata": {},
   "outputs": [
    {
     "data": {
      "text/html": [
       "<div>\n",
       "<style scoped>\n",
       "    .dataframe tbody tr th:only-of-type {\n",
       "        vertical-align: middle;\n",
       "    }\n",
       "\n",
       "    .dataframe tbody tr th {\n",
       "        vertical-align: top;\n",
       "    }\n",
       "\n",
       "    .dataframe thead th {\n",
       "        text-align: right;\n",
       "    }\n",
       "</style>\n",
       "<table border=\"1\" class=\"dataframe\">\n",
       "  <thead>\n",
       "    <tr style=\"text-align: right;\">\n",
       "      <th></th>\n",
       "      <th>ID</th>\n",
       "      <th>Gender</th>\n",
       "      <th>Ever_Married</th>\n",
       "      <th>Age</th>\n",
       "      <th>Graduated</th>\n",
       "      <th>Profession</th>\n",
       "      <th>Work_Experience</th>\n",
       "      <th>Spending_Score</th>\n",
       "      <th>Family_Size</th>\n",
       "      <th>Var_1</th>\n",
       "      <th>Segmentation</th>\n",
       "    </tr>\n",
       "  </thead>\n",
       "  <tbody>\n",
       "    <tr>\n",
       "      <th>0</th>\n",
       "      <td>462809</td>\n",
       "      <td>Male</td>\n",
       "      <td>No</td>\n",
       "      <td>22</td>\n",
       "      <td>No</td>\n",
       "      <td>Healthcare</td>\n",
       "      <td>1.0</td>\n",
       "      <td>Low</td>\n",
       "      <td>4.0</td>\n",
       "      <td>Cat_4</td>\n",
       "      <td>D</td>\n",
       "    </tr>\n",
       "    <tr>\n",
       "      <th>1</th>\n",
       "      <td>462643</td>\n",
       "      <td>Female</td>\n",
       "      <td>Yes</td>\n",
       "      <td>38</td>\n",
       "      <td>Yes</td>\n",
       "      <td>Engineer</td>\n",
       "      <td>NaN</td>\n",
       "      <td>Average</td>\n",
       "      <td>3.0</td>\n",
       "      <td>Cat_4</td>\n",
       "      <td>A</td>\n",
       "    </tr>\n",
       "    <tr>\n",
       "      <th>2</th>\n",
       "      <td>466315</td>\n",
       "      <td>Female</td>\n",
       "      <td>Yes</td>\n",
       "      <td>67</td>\n",
       "      <td>Yes</td>\n",
       "      <td>Engineer</td>\n",
       "      <td>1.0</td>\n",
       "      <td>Low</td>\n",
       "      <td>1.0</td>\n",
       "      <td>Cat_6</td>\n",
       "      <td>B</td>\n",
       "    </tr>\n",
       "    <tr>\n",
       "      <th>3</th>\n",
       "      <td>461735</td>\n",
       "      <td>Male</td>\n",
       "      <td>Yes</td>\n",
       "      <td>67</td>\n",
       "      <td>Yes</td>\n",
       "      <td>Lawyer</td>\n",
       "      <td>0.0</td>\n",
       "      <td>High</td>\n",
       "      <td>2.0</td>\n",
       "      <td>Cat_6</td>\n",
       "      <td>B</td>\n",
       "    </tr>\n",
       "    <tr>\n",
       "      <th>4</th>\n",
       "      <td>462669</td>\n",
       "      <td>Female</td>\n",
       "      <td>Yes</td>\n",
       "      <td>40</td>\n",
       "      <td>Yes</td>\n",
       "      <td>Entertainment</td>\n",
       "      <td>NaN</td>\n",
       "      <td>High</td>\n",
       "      <td>6.0</td>\n",
       "      <td>Cat_6</td>\n",
       "      <td>A</td>\n",
       "    </tr>\n",
       "    <tr>\n",
       "      <th>...</th>\n",
       "      <td>...</td>\n",
       "      <td>...</td>\n",
       "      <td>...</td>\n",
       "      <td>...</td>\n",
       "      <td>...</td>\n",
       "      <td>...</td>\n",
       "      <td>...</td>\n",
       "      <td>...</td>\n",
       "      <td>...</td>\n",
       "      <td>...</td>\n",
       "      <td>...</td>\n",
       "    </tr>\n",
       "    <tr>\n",
       "      <th>10690</th>\n",
       "      <td>467954</td>\n",
       "      <td>Male</td>\n",
       "      <td>No</td>\n",
       "      <td>29</td>\n",
       "      <td>No</td>\n",
       "      <td>Healthcare</td>\n",
       "      <td>9.0</td>\n",
       "      <td>Low</td>\n",
       "      <td>4.0</td>\n",
       "      <td>Cat_6</td>\n",
       "      <td>B</td>\n",
       "    </tr>\n",
       "    <tr>\n",
       "      <th>10691</th>\n",
       "      <td>467958</td>\n",
       "      <td>Female</td>\n",
       "      <td>No</td>\n",
       "      <td>35</td>\n",
       "      <td>Yes</td>\n",
       "      <td>Doctor</td>\n",
       "      <td>1.0</td>\n",
       "      <td>Low</td>\n",
       "      <td>1.0</td>\n",
       "      <td>Cat_6</td>\n",
       "      <td>A</td>\n",
       "    </tr>\n",
       "    <tr>\n",
       "      <th>10692</th>\n",
       "      <td>467960</td>\n",
       "      <td>Female</td>\n",
       "      <td>No</td>\n",
       "      <td>53</td>\n",
       "      <td>Yes</td>\n",
       "      <td>Entertainment</td>\n",
       "      <td>NaN</td>\n",
       "      <td>Low</td>\n",
       "      <td>2.0</td>\n",
       "      <td>Cat_6</td>\n",
       "      <td>C</td>\n",
       "    </tr>\n",
       "    <tr>\n",
       "      <th>10693</th>\n",
       "      <td>467961</td>\n",
       "      <td>Male</td>\n",
       "      <td>Yes</td>\n",
       "      <td>47</td>\n",
       "      <td>Yes</td>\n",
       "      <td>Executive</td>\n",
       "      <td>1.0</td>\n",
       "      <td>High</td>\n",
       "      <td>5.0</td>\n",
       "      <td>Cat_4</td>\n",
       "      <td>C</td>\n",
       "    </tr>\n",
       "    <tr>\n",
       "      <th>10694</th>\n",
       "      <td>467968</td>\n",
       "      <td>Female</td>\n",
       "      <td>No</td>\n",
       "      <td>43</td>\n",
       "      <td>Yes</td>\n",
       "      <td>Healthcare</td>\n",
       "      <td>9.0</td>\n",
       "      <td>Low</td>\n",
       "      <td>3.0</td>\n",
       "      <td>Cat_7</td>\n",
       "      <td>A</td>\n",
       "    </tr>\n",
       "  </tbody>\n",
       "</table>\n",
       "<p>10695 rows × 11 columns</p>\n",
       "</div>"
      ],
      "text/plain": [
       "           ID  Gender Ever_Married  Age Graduated     Profession  \\\n",
       "0      462809    Male           No   22        No     Healthcare   \n",
       "1      462643  Female          Yes   38       Yes       Engineer   \n",
       "2      466315  Female          Yes   67       Yes       Engineer   \n",
       "3      461735    Male          Yes   67       Yes         Lawyer   \n",
       "4      462669  Female          Yes   40       Yes  Entertainment   \n",
       "...       ...     ...          ...  ...       ...            ...   \n",
       "10690  467954    Male           No   29        No     Healthcare   \n",
       "10691  467958  Female           No   35       Yes         Doctor   \n",
       "10692  467960  Female           No   53       Yes  Entertainment   \n",
       "10693  467961    Male          Yes   47       Yes      Executive   \n",
       "10694  467968  Female           No   43       Yes     Healthcare   \n",
       "\n",
       "       Work_Experience Spending_Score  Family_Size  Var_1 Segmentation  \n",
       "0                  1.0            Low          4.0  Cat_4            D  \n",
       "1                  NaN        Average          3.0  Cat_4            A  \n",
       "2                  1.0            Low          1.0  Cat_6            B  \n",
       "3                  0.0           High          2.0  Cat_6            B  \n",
       "4                  NaN           High          6.0  Cat_6            A  \n",
       "...                ...            ...          ...    ...          ...  \n",
       "10690              9.0            Low          4.0  Cat_6            B  \n",
       "10691              1.0            Low          1.0  Cat_6            A  \n",
       "10692              NaN            Low          2.0  Cat_6            C  \n",
       "10693              1.0           High          5.0  Cat_4            C  \n",
       "10694              9.0            Low          3.0  Cat_7            A  \n",
       "\n",
       "[10695 rows x 11 columns]"
      ]
     },
     "execution_count": 5,
     "metadata": {},
     "output_type": "execute_result"
    }
   ],
   "source": [
    "# Combine dataset\n",
    "df = pd.concat([train_df, test_df], ignore_index=True)\n",
    "df"
   ]
  },
  {
   "cell_type": "code",
   "execution_count": 6,
   "metadata": {},
   "outputs": [
    {
     "name": "stdout",
     "output_type": "stream",
     "text": [
      "<class 'pandas.core.frame.DataFrame'>\n",
      "RangeIndex: 10695 entries, 0 to 10694\n",
      "Data columns (total 11 columns):\n",
      " #   Column           Non-Null Count  Dtype  \n",
      "---  ------           --------------  -----  \n",
      " 0   ID               10695 non-null  int64  \n",
      " 1   Gender           10695 non-null  object \n",
      " 2   Ever_Married     10505 non-null  object \n",
      " 3   Age              10695 non-null  int64  \n",
      " 4   Graduated        10593 non-null  object \n",
      " 5   Profession       10533 non-null  object \n",
      " 6   Work_Experience  9597 non-null   float64\n",
      " 7   Spending_Score   10695 non-null  object \n",
      " 8   Family_Size      10247 non-null  float64\n",
      " 9   Var_1            10587 non-null  object \n",
      " 10  Segmentation     10695 non-null  object \n",
      "dtypes: float64(2), int64(2), object(7)\n",
      "memory usage: 919.2+ KB\n"
     ]
    }
   ],
   "source": [
    "df.info()"
   ]
  },
  {
   "cell_type": "code",
   "execution_count": 7,
   "metadata": {},
   "outputs": [
    {
     "data": {
      "text/plain": [
       "ID                    0\n",
       "Gender                0\n",
       "Ever_Married        190\n",
       "Age                   0\n",
       "Graduated           102\n",
       "Profession          162\n",
       "Work_Experience    1098\n",
       "Spending_Score        0\n",
       "Family_Size         448\n",
       "Var_1               108\n",
       "Segmentation          0\n",
       "dtype: int64"
      ]
     },
     "execution_count": 7,
     "metadata": {},
     "output_type": "execute_result"
    }
   ],
   "source": [
    "df.isna().sum()"
   ]
  },
  {
   "cell_type": "code",
   "execution_count": 8,
   "metadata": {},
   "outputs": [],
   "source": [
    "# Handle misiing values\n",
    "from sklearn.impute import SimpleImputer\n",
    "\n",
    "imputer = SimpleImputer(strategy='most_frequent')\n",
    "df[['Ever_Married', 'Graduated', 'Profession', 'Var_1']] = imputer.fit_transform(df[['Ever_Married', 'Graduated', 'Profession', 'Var_1']])\n",
    "df['Work_Experience'].fillna(df['Work_Experience'].median(), inplace=True)\n",
    "df['Family_Size'].fillna(df['Family_Size'].median(), inplace=True)"
   ]
  },
  {
   "cell_type": "code",
   "execution_count": 9,
   "metadata": {},
   "outputs": [
    {
     "name": "stdout",
     "output_type": "stream",
     "text": [
      "           ID  Gender Ever_Married  Age Graduated     Profession  \\\n",
      "0      462809    Male           No   22        No     Healthcare   \n",
      "1      462643  Female          Yes   38       Yes       Engineer   \n",
      "2      466315  Female          Yes   67       Yes       Engineer   \n",
      "3      461735    Male          Yes   67       Yes         Lawyer   \n",
      "4      462669  Female          Yes   40       Yes  Entertainment   \n",
      "...       ...     ...          ...  ...       ...            ...   \n",
      "10690  467954    Male           No   29        No     Healthcare   \n",
      "10691  467958  Female           No   35       Yes         Doctor   \n",
      "10692  467960  Female           No   53       Yes  Entertainment   \n",
      "10693  467961    Male          Yes   47       Yes      Executive   \n",
      "10694  467968  Female           No   43       Yes     Healthcare   \n",
      "\n",
      "       Work_Experience Spending_Score  Family_Size  Var_1 Segmentation  \n",
      "0                  1.0            Low          4.0  Cat_4            D  \n",
      "1                  1.0        Average          3.0  Cat_4            A  \n",
      "2                  1.0            Low          1.0  Cat_6            B  \n",
      "3                  0.0           High          2.0  Cat_6            B  \n",
      "4                  1.0           High          6.0  Cat_6            A  \n",
      "...                ...            ...          ...    ...          ...  \n",
      "10690              9.0            Low          4.0  Cat_6            B  \n",
      "10691              1.0            Low          1.0  Cat_6            A  \n",
      "10692              1.0            Low          2.0  Cat_6            C  \n",
      "10693              1.0           High          5.0  Cat_4            C  \n",
      "10694              9.0            Low          3.0  Cat_7            A  \n",
      "\n",
      "[10695 rows x 11 columns]\n"
     ]
    }
   ],
   "source": [
    "print(df)"
   ]
  },
  {
   "cell_type": "code",
   "execution_count": 10,
   "metadata": {},
   "outputs": [],
   "source": [
    "# Encode categorical variables\n",
    "from sklearn.preprocessing import LabelEncoder, StandardScaler\n",
    "\n",
    "label_enc = LabelEncoder()\n",
    "for col in ['Gender', 'Ever_Married', 'Graduated', 'Profession', 'Spending_Score', 'Var_1']:\n",
    "    df[col] = label_enc.fit_transform(df[col])"
   ]
  },
  {
   "cell_type": "code",
   "execution_count": 11,
   "metadata": {},
   "outputs": [],
   "source": [
    "# Normalize numerical varibles\n",
    "scaler = StandardScaler()\n",
    "df[['Age', 'Work_Experience', 'Family_Size']] = scaler.fit_transform(df[['Age', 'Work_Experience', 'Family_Size']])\n"
   ]
  },
  {
   "cell_type": "markdown",
   "metadata": {},
   "source": [
    "# 2. Exploratory Data Analysis (EDA)"
   ]
  },
  {
   "cell_type": "code",
   "execution_count": 12,
   "metadata": {},
   "outputs": [],
   "source": [
    "import matplotlib.pyplot as plt\n",
    "import seaborn as sns"
   ]
  },
  {
   "cell_type": "code",
   "execution_count": 13,
   "metadata": {},
   "outputs": [
    {
     "data": {
      "image/png": "[encoded data removed]",
      "text/plain": [
       "<Figure size 576x360 with 1 Axes>"
      ]
     },
     "metadata": {
      "needs_background": "light"
     },
     "output_type": "display_data"
    }
   ],
   "source": [
    "# Distribution of customer segments\n",
    "plt.figure(figsize=(8,5))\n",
    "sns.countplot(x='Segmentation', data=train_df, palette='viridis')\n",
    "plt.title('Customer Segmentation Distribution')\n",
    "plt.xlabel('Segment')\n",
    "plt.ylabel('Count')\n",
    "plt.show()"
   ]
  },
  {
   "cell_type": "markdown",
   "metadata": {},
   "source": [
    "The distribution of customer segments provides insights into how customers are grouped. In this dataset, Segment D has the highest count, indicating that a large proportion of customers belong to this group. This suggests that the characteristics defining Segment D are more common among the customer base. On the other hand, Segment B has the lowest count, implying that fewer customers share the attributes associated with this segment. This could indicate an underrepresented market group that businesses might need to understand better for targeted marketing strategies."
   ]
  },
  {
   "cell_type": "code",
   "execution_count": 14,
   "metadata": {},
   "outputs": [
    {
     "data": {
      "image/png": "[encoded data removed]",
      "text/plain": [
       "<Figure size 576x360 with 1 Axes>"
      ]
     },
     "metadata": {
      "needs_background": "light"
     },
     "output_type": "display_data"
    }
   ],
   "source": [
    "# Age distribution\n",
    "plt.figure(figsize=(8, 5))\n",
    "sns.histplot(df['Age'], bins=30, kde=True, color='blue')\n",
    "plt.title('Age Distribution')\n",
    "plt.show()"
   ]
  },
  {
   "cell_type": "markdown",
   "metadata": {},
   "source": [
    "The age distribution in the dataset shows a notable pattern. The range from -1 to 0 has a significantly higher count compared to the range above 2. This suggests that a large portion of the customers fall within the scaled values close to the mean (since standardization has been applied). The negative values indicate that these individuals have ages below the mean after normalization, meaning that younger customers make up a larger proportion of the dataset. Conversely, fewer customers have scaled age values above 2, suggesting that older individuals are underrepresented in the dataset. This insight can help businesses adjust their marketing strategies to target younger customers who dominate the customer base."
   ]
  },
  {
   "cell_type": "code",
   "execution_count": 15,
   "metadata": {},
   "outputs": [
    {
     "data": {
      "image/png": "[encoded data removed]",
      "text/plain": [
       "<Figure size 576x432 with 1 Axes>"
      ]
     },
     "metadata": {
      "needs_background": "light"
     },
     "output_type": "display_data"
    }
   ],
   "source": [
    "\n",
    "# Relationship between Spending Score and Segmentation\n",
    "plt.figure(figsize=(8,6))\n",
    "sns.boxplot(x= 'Segmentation', y= 'Spending_Score', data= df, palette='coolwarm')\n",
    "plt.title('Spending Score by Customer Segment')\n",
    "plt.show()\n"
   ]
  },
  {
   "cell_type": "markdown",
   "metadata": {},
   "source": [
    "Segment D exhibits outliers in spending scores, indicating a diverse range of spending behaviors within this group.\n",
    "\n",
    "Segments B and C have a more uniform spending score distribution, suggesting more consistent purchasing habits.\n",
    "\n",
    "Segment A generally has an average spending score, indicating a balanced customer profile with moderate spending tendencies."
   ]
  },
  {
   "cell_type": "code",
   "execution_count": 16,
   "metadata": {},
   "outputs": [
    {
     "data": {
      "image/png": "[encoded data removed]",
      "text/plain": [
       "<Figure size 720x432 with 2 Axes>"
      ]
     },
     "metadata": {
      "needs_background": "light"
     },
     "output_type": "display_data"
    }
   ],
   "source": [
    "# heat map correaltion matrix\n",
    "plt.figure(figsize=(10,6))\n",
    "sns.heatmap(df.corr(), annot=True, cmap='coolwarm', fmt='.2f')\n",
    "plt.title('Feature Correlation Matrix')\n",
    "plt.show()\n"
   ]
  },
  {
   "cell_type": "markdown",
   "metadata": {},
   "source": [
    "The lowest correlation in the dataset is between Spending Score and Ever Married (-0.62), indicating that marital status has little to no direct impact on spending behavior.\n",
    "\n",
    "Family Size and Age also show a relatively low correlation, suggesting that having a larger family does not necessarily relate to older age.\n",
    "\n",
    "The highest correlation is observed between Age and Ever Married (0.56), which is expected since older individuals are more likely to have been married.\n",
    "\n",
    "Other variables have moderate correlations, implying that there are no extreme dependencies, making this dataset well-suited for machine learning applications where multiple factors influence segmentation.\n",
    "\n"
   ]
  },
  {
   "cell_type": "markdown",
   "metadata": {},
   "source": [
    "# Model Development\n"
   ]
  },
  {
   "cell_type": "code",
   "execution_count": 17,
   "metadata": {},
   "outputs": [],
   "source": [
    "from sklearn.model_selection import train_test_split\n",
    "from sklearn.tree import DecisionTreeClassifier\n",
    "from sklearn.ensemble import RandomForestClassifier, GradientBoostingClassifier\n",
    "from sklearn.neural_network import MLPClassifier\n",
    "from sklearn.metrics import accuracy_score, classification_report\n"
   ]
  },
  {
   "cell_type": "code",
   "execution_count": 18,
   "metadata": {},
   "outputs": [],
   "source": [
    "# Split the dataset\n",
    "X = df.drop(columns=['ID', 'Segmentation'])\n",
    "y = df['Segmentation']\n",
    "X_train, X_test, y_train, y_test = train_test_split(X, y, test_size=0.2, random_state=42)\n",
    "\n"
   ]
  },
  {
   "cell_type": "markdown",
   "metadata": {},
   "source": [
    "1. Decision Tree"
   ]
  },
  {
   "cell_type": "code",
   "execution_count": 19,
   "metadata": {},
   "outputs": [
    {
     "name": "stdout",
     "output_type": "stream",
     "text": [
      "Decision Tree Accuracy: 0.36699392239364187\n",
      "              precision    recall  f1-score   support\n",
      "\n",
      "           A       0.33      0.32      0.32       584\n",
      "           B       0.27      0.29      0.28       490\n",
      "           C       0.36      0.36      0.36       472\n",
      "           D       0.50      0.49      0.49       593\n",
      "\n",
      "    accuracy                           0.37      2139\n",
      "   macro avg       0.36      0.36      0.36      2139\n",
      "weighted avg       0.37      0.37      0.37      2139\n",
      "\n"
     ]
    }
   ],
   "source": [
    "# Decision Tree Model\n",
    "dt_model = DecisionTreeClassifier(random_state=42)\n",
    "dt_model.fit(X_train, y_train)\n",
    "dt_pred = dt_model.predict(X_test)\n",
    "print(\"Decision Tree Accuracy:\", accuracy_score(y_test, dt_pred))\n",
    "print(classification_report(y_test, dt_pred))\n"
   ]
  },
  {
   "cell_type": "markdown",
   "metadata": {},
   "source": [
    "The Desion tree model achieved an accuracy of 36.7%, indicating that the model struggles to make precise classifications across the four customer segments.\n",
    "\n",
    "The macro average F1-score is 0.36, showing that the model performs inconsistently across the different segments. Notably, Segment D has the highest performance with an F1-score of 0.49, while Segment B has the lowest at 0.28. This suggests that the model finds it easier to sistinguish Segment D but struggles with Segment B.\n",
    "\n",
    "Overall the low accuracy and varyong class-wide performance indicates that the Decision Tree Model may be overfitting or not capturing enough distinguishing patterns from the data. Improvemnts could be made by tuning hyperparameters using ensemble methods or incorporating feature engineerung techniques to enhance predictive power."
   ]
  },
  {
   "cell_type": "markdown",
   "metadata": {},
   "source": [
    "2. Random Forest"
   ]
  },
  {
   "cell_type": "code",
   "execution_count": 20,
   "metadata": {},
   "outputs": [
    {
     "name": "stdout",
     "output_type": "stream",
     "text": [
      "Random Forest Accuracy: 0.4170172978027116\n",
      "              precision    recall  f1-score   support\n",
      "\n",
      "           A       0.37      0.36      0.36       584\n",
      "           B       0.30      0.28      0.29       490\n",
      "           C       0.41      0.41      0.41       472\n",
      "           D       0.54      0.60      0.57       593\n",
      "\n",
      "    accuracy                           0.42      2139\n",
      "   macro avg       0.41      0.41      0.41      2139\n",
      "weighted avg       0.41      0.42      0.41      2139\n",
      "\n"
     ]
    }
   ],
   "source": [
    "# Random Forest Model\n",
    "rf_model = RandomForestClassifier(n_estimators=100, random_state=42)\n",
    "rf_model.fit(X_train, y_train)\n",
    "rf_pred = rf_model.predict(X_test)\n",
    "print(\"Random Forest Accuracy:\", accuracy_score(y_test, rf_pred))\n",
    "print(classification_report(y_test, rf_pred))"
   ]
  },
  {
   "cell_type": "markdown",
   "metadata": {},
   "source": [
    "Th Random Forest Model achieved an accuracy of 41.7%, indicating moderate performance,in classifying customer segments. \n",
    "\n",
    "Segment D has the highest perfrmance, with recall 0f 60%, meaning it correctly identified 60% of actual D customers. It also had the highest f1-score of 0.57, showing balanced precision and recall.\n",
    "\n",
    "Segment C follows closely, with a recall of 41% and an f1-score of 0.41, showing consistent classifcation.\n",
    "\n",
    "The macro average f1-score of 0.41 suggests that the modelstruggles equally across all classes, while the weighted average f1-score also being 0.41 indicates that class imbalances did not heavily skew the overall results."
   ]
  },
  {
   "cell_type": "markdown",
   "metadata": {},
   "source": [
    "3. Gradient Boosting"
   ]
  },
  {
   "cell_type": "code",
   "execution_count": 21,
   "metadata": {},
   "outputs": [
    {
     "name": "stdout",
     "output_type": "stream",
     "text": [
      "Gradient Boosting Accuracy: 0.48667601683029454\n",
      "              precision    recall  f1-score   support\n",
      "\n",
      "           A       0.41      0.44      0.43       584\n",
      "           B       0.41      0.27      0.33       490\n",
      "           C       0.49      0.55      0.52       472\n",
      "           D       0.58      0.66      0.62       593\n",
      "\n",
      "    accuracy                           0.49      2139\n",
      "   macro avg       0.48      0.48      0.47      2139\n",
      "weighted avg       0.48      0.49      0.48      2139\n",
      "\n"
     ]
    }
   ],
   "source": [
    "# Gradient boosting model\n",
    "gb_model = GradientBoostingClassifier(n_estimators=100, random_state=42)\n",
    "gb_model.fit(X_train, y_train)\n",
    "gb_pred = gb_model.predict(X_test)\n",
    "print(\"Gradient Boosting Accuracy:\", accuracy_score(y_test, gb_pred))\n",
    "print(classification_report(y_test, gb_pred))"
   ]
  },
  {
   "cell_type": "markdown",
   "metadata": {},
   "source": [
    "The Gradient Boosting model achieved an overaall accuracy of 48.67% on the test dataset.\n",
    "\n",
    "Segment D has the highest f1-score 0.62 with a recall of 66%, indicating the model effectively identified most customers belonging to this segment.\n",
    "\n",
    "SegmentB performed the weakest with an f1-score of 0.33 and the lowest recall 27%, meaning the model struggled to correctly classify customers in this segemnt.\n",
    "\n",
    "The macro average f1-score o.47 suggests that the model performnnce was relatively balanced across segments but some classes were predicted better than others. The weighted average f1-score 0.48 conforms that the models classification power was slightly better for the more frequent segments\n",
    "\n"
   ]
  },
  {
   "cell_type": "markdown",
   "metadata": {},
   "source": [
    "4. Neural Network"
   ]
  },
  {
   "cell_type": "code",
   "execution_count": 22,
   "metadata": {},
   "outputs": [
    {
     "name": "stdout",
     "output_type": "stream",
     "text": [
      "Neural Network Accuracy: 0.47732585320243104\n",
      "              precision    recall  f1-score   support\n",
      "\n",
      "           A       0.40      0.48      0.44       584\n",
      "           B       0.39      0.25      0.31       490\n",
      "           C       0.48      0.51      0.49       472\n",
      "           D       0.60      0.63      0.62       593\n",
      "\n",
      "    accuracy                           0.48      2139\n",
      "   macro avg       0.47      0.47      0.46      2139\n",
      "weighted avg       0.47      0.48      0.47      2139\n",
      "\n"
     ]
    }
   ],
   "source": [
    "# Neural Network Model\n",
    "nn_model = MLPClassifier(hidden_layer_sizes=(100,), max_iter=500, random_state=42)\n",
    "nn_model.fit(X_train, y_train)\n",
    "nn_pred = nn_model.predict(X_test)\n",
    "print(\"Neural Network Accuracy:\", accuracy_score(y_test, nn_pred))\n",
    "print(classification_report(y_test, nn_pred))"
   ]
  },
  {
   "cell_type": "markdown",
   "metadata": {},
   "source": [
    "The Neural Network model achieved an accuracy of 47.73%, indicating moderate performnce in customer segmentation. The model's f1_score varies across different segments, with Segment D achieving the highest f1-score of 0.62, suggesting better classification performance in this category.\n",
    "\n",
    "The macro average f1-score of 0.46 shows that the models overall segmentation is not yet optimal and may reguire furher tuning.\n",
    "\n",
    "The weighted average f1-score of 0.47, suggests that the classification errors are spread across multiple segments.\n",
    "Possible improvements include hypermeter tuning, increasing the number of hidden layers and experenting with different activation to enhance classification performance.\n"
   ]
  },
  {
   "cell_type": "markdown",
   "metadata": {},
   "source": [
    "# Model Evaluation"
   ]
  },
  {
   "cell_type": "markdown",
   "metadata": {},
   "source": [
    "1. Hyperparameter tuning"
   ]
  },
  {
   "cell_type": "code",
   "execution_count": 23,
   "metadata": {},
   "outputs": [
    {
     "name": "stdout",
     "output_type": "stream",
     "text": [
      "Best Parameters: {'learning_rate': 0.01, 'max_depth': 4, 'n_estimators': 300}\n",
      "Best Accuracy: 0.4841044341998176\n",
      "Optimized Gradient Boosting Accuracy: 0.48620850864890136\n",
      "              precision    recall  f1-score   support\n",
      "\n",
      "           A       0.41      0.45      0.43       584\n",
      "           B       0.40      0.24      0.30       490\n",
      "           C       0.49      0.55      0.52       472\n",
      "           D       0.59      0.67      0.63       593\n",
      "\n",
      "    accuracy                           0.49      2139\n",
      "   macro avg       0.47      0.48      0.47      2139\n",
      "weighted avg       0.48      0.49      0.48      2139\n",
      "\n",
      "Cross-Validation Scores: [0.48656542 0.48860316 0.46990064 0.4956166  0.47983635]\n",
      "Mean CV Accuracy: 0.4841044341998176\n"
     ]
    }
   ],
   "source": [
    "from sklearn.model_selection import GridSearchCV, cross_val_score\n",
    "from sklearn.ensemble import GradientBoostingClassifier\n",
    "\n",
    "# Define hyperparameter grid\n",
    "param_grid = {\n",
    "    'n_estimators': [100, 200, 300],\n",
    "    'learning_rate': [0.01, 0.1, 0.2],\n",
    "    'max_depth': [3, 4, 5]\n",
    "}\n",
    "\n",
    "# Perform grid search\n",
    "gb_model = GradientBoostingClassifier(random_state=42)\n",
    "grid_search = GridSearchCV(gb_model, param_grid, cv=5, scoring='accuracy', n_jobs=-1)\n",
    "grid_search.fit(X_train, y_train)\n",
    "\n",
    "# Best parameters and best score\n",
    "print(\"Best Parameters:\", grid_search.best_params_)\n",
    "print(\"Best Accuracy:\", grid_search.best_score_)\n",
    "\n",
    "# Train final model with best parameters\n",
    "best_gb_model = GradientBoostingClassifier(**grid_search.best_params_, random_state=42)\n",
    "best_gb_model.fit(X_train, y_train)\n",
    "gb_pred = best_gb_model.predict(X_test)\n",
    "print(\"Optimized Gradient Boosting Accuracy:\", accuracy_score(y_test, gb_pred))\n",
    "print(classification_report(y_test, gb_pred))\n",
    "\n",
    "# Cross-validation\n",
    "cv_scores = cross_val_score(best_gb_model, X_train, y_train, cv=5, scoring='accuracy')\n",
    "print(\"Cross-Validation Scores:\", cv_scores)\n",
    "print(\"Mean CV Accuracy:\", cv_scores.mean())"
   ]
  },
  {
   "cell_type": "markdown",
   "metadata": {},
   "source": [
    "The best parameters obtained were learning_rate = 0.01, max_depth = 4 and n_estimators = 300, resulting in an optimized accuracy of 0.4862. The mean cross validation accuracy was 0.4841, indicating consistent model performance across validation sets."
   ]
  },
  {
   "cell_type": "markdown",
   "metadata": {},
   "source": [
    "2. Confusion matrix"
   ]
  },
  {
   "cell_type": "code",
   "execution_count": 24,
   "metadata": {},
   "outputs": [
    {
     "data": {
      "image/png": "[encoded data removed]",
      "text/plain": [
       "<Figure size 432x432 with 2 Axes>"
      ]
     },
     "metadata": {
      "needs_background": "light"
     },
     "output_type": "display_data"
    },
    {
     "name": "stdout",
     "output_type": "stream",
     "text": [
      "              precision    recall  f1-score   support\n",
      "\n",
      "           A       0.41      0.45      0.43       584\n",
      "           B       0.40      0.24      0.30       490\n",
      "           C       0.49      0.55      0.52       472\n",
      "           D       0.59      0.67      0.63       593\n",
      "\n",
      "    accuracy                           0.49      2139\n",
      "   macro avg       0.47      0.48      0.47      2139\n",
      "weighted avg       0.48      0.49      0.48      2139\n",
      "\n"
     ]
    }
   ],
   "source": [
    "from sklearn.metrics import confusion_matrix, classification_report\n",
    "import seaborn as sns\n",
    "\n",
    "y_pred = best_gb_model.predict(X_test)\n",
    "cm = confusion_matrix(y_test, y_pred)\n",
    "\n",
    "plt.figure(figsize=(6, 6))\n",
    "sns.heatmap(cm, annot=True, fmt='d', cmap='Blues', xticklabels=['A', 'B', 'C', 'D'], yticklabels=['A', 'B', 'C', 'D'])\n",
    "plt.xlabel('Predicted')\n",
    "plt.ylabel('Actual')\n",
    "plt.title('Confusion Matrix')\n",
    "plt.show()\n",
    "\n",
    "print(classification_report(y_test, y_pred))"
   ]
  },
  {
   "cell_type": "markdown",
   "metadata": {},
   "source": [
    "The confusion matrix indicates that segment D has the highest recall(67%), meaning it was mostly correctly classified. Segment A had a balanced recall and precision, while segment B suffered from missclassification, leading to lower recall (24%). Overall, the weighted f1_score was 0.48, indicating moderate performance."
   ]
  },
  {
   "cell_type": "markdown",
   "metadata": {},
   "source": [
    "3. Feature importance analysis"
   ]
  },
  {
   "cell_type": "code",
   "execution_count": 25,
   "metadata": {},
   "outputs": [
    {
     "data": {
      "image/png": "[encoded data removed]",
      "text/plain": [
       "<Figure size 720x360 with 1 Axes>"
      ]
     },
     "metadata": {
      "needs_background": "light"
     },
     "output_type": "display_data"
    }
   ],
   "source": [
    "import numpy as np\n",
    "importances = best_gb_model.feature_importances_\n",
    "feature_names = X_train.columns\n",
    "\n",
    "sorted_indices = np.argsort(importances)[::-1]\n",
    "\n",
    "plt.figure(figsize=(10, 5))\n",
    "sns.barplot(x=importances[sorted_indices], y=[feature_names[i] for i in sorted_indices])\n",
    "plt.xlabel('Importance')\n",
    "plt.ylabel('Feature')\n",
    "plt.title('Feature Importance in Gradient Boosting Model')\n",
    "plt.show()"
   ]
  },
  {
   "cell_type": "markdown",
   "metadata": {},
   "source": [
    "The models feature importance analysis identifed key factors influencing segmentation. Features such as Age, Profession and Spending score contributed the most to predicting customer segments, while other demographic factors played a secondary role.This insight helps in focusing marketing strategies on the most impactful attributes."
   ]
  },
  {
   "cell_type": "markdown",
   "metadata": {},
   "source": [
    "# Conclusion and Recommendation"
   ]
  },
  {
   "cell_type": "markdown",
   "metadata": {},
   "source": [
    "# Conclusion:\n",
    "\n",
    "The machine learning model successfully segmented customers  into four distinct groups based on the key demographic and behavioral factors.\n",
    "\n",
    "Spending score, profeesion and age were the most influential features in determining customer segments.\n",
    "\n",
    "The model achieved an accuracy of approximately 48% indicating moderate predictive capability which could be improved with additional feature engineering.\n",
    "\n",
    "# Recommendations:\n",
    "\n",
    "Targeted marketing strategies: Businesses should design personalized marketing campaigns based on customer segments, focusing on high value customers identified by the model.\n",
    "\n",
    "Customer Retention Plans: The insights can help in identifying at risk customers eg those with low spending scores and implement retention strategies.\n",
    "\n",
    "Feature Engineering Improvements: Additional behavioural attributes such as purchase history, product preferences and online engagement should be incorporated to improve model accuracy.\n",
    "\n",
    "Further Model Optimization: Advanced ensemble techniques or deep learning approaches may be explored to enhance classification accuracy.\n",
    "\n",
    "\n",
    "# Advice to stakeholders:\n",
    "Invest in collecting more detailed customer behaviour data to refine segmentation.\n",
    "\n",
    "Regularly update the model with new customer data to maintain its predictive power.\n",
    "\n",
    "Integrate the segmentation model into CRM systems for real time customer insights and personalized services."
   ]
  }
 ],
 "metadata": {
  "kernelspec": {
   "display_name": "Python 3",
   "language": "python",
   "name": "python3"
  },
  "language_info": {
   "codemirror_mode": {
    "name": "ipython",
    "version": 3
   },
   "file_extension": ".py",
   "mimetype": "text/x-python",
   "name": "python",
   "nbconvert_exporter": "python",
   "pygments_lexer": "ipython3",
   "version": "3.8.5"
  }
 },
 "nbformat": 4,
 "nbformat_minor": 2
}
